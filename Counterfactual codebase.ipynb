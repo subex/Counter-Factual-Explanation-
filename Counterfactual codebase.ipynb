{
 "cells": [
  {
   "cell_type": "markdown",
   "id": "abf9314c",
   "metadata": {},
   "source": [
    "# Importing Libraries"
   ]
  },
  {
   "cell_type": "code",
   "execution_count": 1,
   "id": "c5efcb37",
   "metadata": {},
   "outputs": [],
   "source": [
    "import pandas as pd\n",
    "import numpy as np\n",
    "import dice_ml\n",
    "from sklearn.ensemble import RandomForestClassifier\n",
    "from sklearn.ensemble import RandomForestRegressor"
   ]
  },
  {
   "cell_type": "markdown",
   "id": "ebfdee2f",
   "metadata": {},
   "source": [
    "# Classification problem: Telco Customer Churn"
   ]
  },
  {
   "cell_type": "code",
   "execution_count": 2,
   "id": "9b3ce0ed",
   "metadata": {},
   "outputs": [],
   "source": [
    "tmf=pd.read_csv('Classification.csv')"
   ]
  },
  {
   "cell_type": "code",
   "execution_count": 3,
   "id": "889afefd",
   "metadata": {},
   "outputs": [
    {
     "data": {
      "text/html": [
       "<div>\n",
       "<style scoped>\n",
       "    .dataframe tbody tr th:only-of-type {\n",
       "        vertical-align: middle;\n",
       "    }\n",
       "\n",
       "    .dataframe tbody tr th {\n",
       "        vertical-align: top;\n",
       "    }\n",
       "\n",
       "    .dataframe thead th {\n",
       "        text-align: right;\n",
       "    }\n",
       "</style>\n",
       "<table border=\"1\" class=\"dataframe\">\n",
       "  <thead>\n",
       "    <tr style=\"text-align: right;\">\n",
       "      <th></th>\n",
       "      <th>Tenure in Months</th>\n",
       "      <th>Senior Citizen</th>\n",
       "      <th>Under 30</th>\n",
       "      <th>Total Long Distance Charges</th>\n",
       "      <th>Total Refunds</th>\n",
       "      <th>Churn Value</th>\n",
       "      <th>Total Charges</th>\n",
       "      <th>Total Revenue</th>\n",
       "      <th>Total Extra Data Charges</th>\n",
       "      <th>Satisfaction Score</th>\n",
       "    </tr>\n",
       "  </thead>\n",
       "  <tbody>\n",
       "    <tr>\n",
       "      <th>0</th>\n",
       "      <td>1</td>\n",
       "      <td>1.0</td>\n",
       "      <td>0.0</td>\n",
       "      <td>0.00</td>\n",
       "      <td>0.00</td>\n",
       "      <td>1</td>\n",
       "      <td>39.65</td>\n",
       "      <td>59.65</td>\n",
       "      <td>20</td>\n",
       "      <td>3</td>\n",
       "    </tr>\n",
       "    <tr>\n",
       "      <th>1</th>\n",
       "      <td>8</td>\n",
       "      <td>1.0</td>\n",
       "      <td>0.0</td>\n",
       "      <td>390.80</td>\n",
       "      <td>0.00</td>\n",
       "      <td>1</td>\n",
       "      <td>633.30</td>\n",
       "      <td>1024.10</td>\n",
       "      <td>0</td>\n",
       "      <td>3</td>\n",
       "    </tr>\n",
       "    <tr>\n",
       "      <th>2</th>\n",
       "      <td>18</td>\n",
       "      <td>1.0</td>\n",
       "      <td>0.0</td>\n",
       "      <td>203.94</td>\n",
       "      <td>45.61</td>\n",
       "      <td>1</td>\n",
       "      <td>1752.55</td>\n",
       "      <td>1910.88</td>\n",
       "      <td>0</td>\n",
       "      <td>2</td>\n",
       "    </tr>\n",
       "    <tr>\n",
       "      <th>3</th>\n",
       "      <td>25</td>\n",
       "      <td>1.0</td>\n",
       "      <td>0.0</td>\n",
       "      <td>494.00</td>\n",
       "      <td>13.43</td>\n",
       "      <td>1</td>\n",
       "      <td>2514.50</td>\n",
       "      <td>2995.07</td>\n",
       "      <td>0</td>\n",
       "      <td>2</td>\n",
       "    </tr>\n",
       "    <tr>\n",
       "      <th>4</th>\n",
       "      <td>37</td>\n",
       "      <td>1.0</td>\n",
       "      <td>0.0</td>\n",
       "      <td>234.21</td>\n",
       "      <td>0.00</td>\n",
       "      <td>1</td>\n",
       "      <td>2868.15</td>\n",
       "      <td>3102.36</td>\n",
       "      <td>0</td>\n",
       "      <td>2</td>\n",
       "    </tr>\n",
       "  </tbody>\n",
       "</table>\n",
       "</div>"
      ],
      "text/plain": [
       "   Tenure in Months  Senior Citizen  Under 30  Total Long Distance Charges  \\\n",
       "0                 1             1.0       0.0                         0.00   \n",
       "1                 8             1.0       0.0                       390.80   \n",
       "2                18             1.0       0.0                       203.94   \n",
       "3                25             1.0       0.0                       494.00   \n",
       "4                37             1.0       0.0                       234.21   \n",
       "\n",
       "   Total Refunds  Churn Value  Total Charges  Total Revenue  \\\n",
       "0           0.00            1          39.65          59.65   \n",
       "1           0.00            1         633.30        1024.10   \n",
       "2          45.61            1        1752.55        1910.88   \n",
       "3          13.43            1        2514.50        2995.07   \n",
       "4           0.00            1        2868.15        3102.36   \n",
       "\n",
       "   Total Extra Data Charges  Satisfaction Score  \n",
       "0                        20                   3  \n",
       "1                         0                   3  \n",
       "2                         0                   2  \n",
       "3                         0                   2  \n",
       "4                         0                   2  "
      ]
     },
     "execution_count": 3,
     "metadata": {},
     "output_type": "execute_result"
    }
   ],
   "source": [
    "tmf.head()"
   ]
  },
  {
   "cell_type": "code",
   "execution_count": 4,
   "id": "6782ac84",
   "metadata": {},
   "outputs": [],
   "source": [
    "target=tmf['Churn Value']"
   ]
  },
  {
   "cell_type": "code",
   "execution_count": 5,
   "id": "e1fd1661",
   "metadata": {},
   "outputs": [],
   "source": [
    "X=tmf.drop('Churn Value',axis=1)"
   ]
  },
  {
   "cell_type": "code",
   "execution_count": 6,
   "id": "f87100e4",
   "metadata": {},
   "outputs": [],
   "source": [
    "rfc_tmf=RandomForestClassifier()"
   ]
  },
  {
   "cell_type": "code",
   "execution_count": 7,
   "id": "8ba1ed78",
   "metadata": {},
   "outputs": [
    {
     "data": {
      "text/plain": [
       "RandomForestClassifier()"
      ]
     },
     "execution_count": 7,
     "metadata": {},
     "output_type": "execute_result"
    }
   ],
   "source": [
    "rfc_tmf.fit(X,target)"
   ]
  },
  {
   "cell_type": "markdown",
   "id": "23a1f7ff",
   "metadata": {},
   "source": [
    "### Initializing Dice data"
   ]
  },
  {
   "cell_type": "code",
   "execution_count": 8,
   "id": "1fc3c0c3",
   "metadata": {},
   "outputs": [],
   "source": [
    "data_dice = dice_ml.Data(dataframe=tmf.astype(float).astype(str),\n",
    "                          continuous_features=[],\n",
    "                         outcome_name='Churn Value')"
   ]
  },
  {
   "cell_type": "markdown",
   "id": "63c433ef",
   "metadata": {},
   "source": [
    "### Initializing Dice Model"
   ]
  },
  {
   "cell_type": "code",
   "execution_count": 9,
   "id": "aadd3865",
   "metadata": {},
   "outputs": [],
   "source": [
    "model_dice = dice_ml.Model(model=rfc_tmf, backend=\"sklearn\")"
   ]
  },
  {
   "cell_type": "markdown",
   "id": "a4d354bc",
   "metadata": {},
   "source": [
    "### Combining Data and Model to create Dice Explainer"
   ]
  },
  {
   "cell_type": "code",
   "execution_count": 10,
   "id": "e8bd3cd2",
   "metadata": {},
   "outputs": [],
   "source": [
    "explainer = dice_ml.Dice(data_dice, model_dice, method=\"random\")"
   ]
  },
  {
   "cell_type": "markdown",
   "id": "ce8ef7f8",
   "metadata": {},
   "source": [
    "### Selecting a datapoint for which counterfactual is needed"
   ]
  },
  {
   "cell_type": "code",
   "execution_count": 11,
   "id": "6ec4044c",
   "metadata": {},
   "outputs": [],
   "source": [
    "input_datapoint=pd.DataFrame(X.iloc[67]).T"
   ]
  },
  {
   "cell_type": "markdown",
   "id": "9d96beeb",
   "metadata": {},
   "source": [
    "### Finding couterfactuals"
   ]
  },
  {
   "cell_type": "code",
   "execution_count": 12,
   "id": "3a277d7f",
   "metadata": {},
   "outputs": [
    {
     "name": "stderr",
     "output_type": "stream",
     "text": [
      "100%|████████████████████████████████████████████████████████████████████████████████████| 1/1 [00:00<00:00,  3.15it/s]\n"
     ]
    }
   ],
   "source": [
    "cf= explainer.generate_counterfactuals(input_datapoint.astype(float).astype(str), \n",
    "              total_CFs=3, \n",
    "\n",
    "                            desired_class=0,\n",
    "              #permitted_range=permit_range,\n",
    "              features_to_vary=X.columns.to_list())\n",
    "            "
   ]
  },
  {
   "cell_type": "code",
   "execution_count": 13,
   "id": "16bb54f5",
   "metadata": {},
   "outputs": [
    {
     "name": "stdout",
     "output_type": "stream",
     "text": [
      "Query instance (original outcome : 1)\n"
     ]
    },
    {
     "data": {
      "text/html": [
       "<div>\n",
       "<style scoped>\n",
       "    .dataframe tbody tr th:only-of-type {\n",
       "        vertical-align: middle;\n",
       "    }\n",
       "\n",
       "    .dataframe tbody tr th {\n",
       "        vertical-align: top;\n",
       "    }\n",
       "\n",
       "    .dataframe thead th {\n",
       "        text-align: right;\n",
       "    }\n",
       "</style>\n",
       "<table border=\"1\" class=\"dataframe\">\n",
       "  <thead>\n",
       "    <tr style=\"text-align: right;\">\n",
       "      <th></th>\n",
       "      <th>Tenure in Months</th>\n",
       "      <th>Senior Citizen</th>\n",
       "      <th>Under 30</th>\n",
       "      <th>Total Long Distance Charges</th>\n",
       "      <th>Total Refunds</th>\n",
       "      <th>Total Charges</th>\n",
       "      <th>Total Revenue</th>\n",
       "      <th>Total Extra Data Charges</th>\n",
       "      <th>Satisfaction Score</th>\n",
       "      <th>Churn Value</th>\n",
       "    </tr>\n",
       "  </thead>\n",
       "  <tbody>\n",
       "    <tr>\n",
       "      <th>0</th>\n",
       "      <td>8.0</td>\n",
       "      <td>1.0</td>\n",
       "      <td>0.0</td>\n",
       "      <td>343.44</td>\n",
       "      <td>0.0</td>\n",
       "      <td>729.95</td>\n",
       "      <td>1073.39</td>\n",
       "      <td>0.0</td>\n",
       "      <td>1.0</td>\n",
       "      <td>1</td>\n",
       "    </tr>\n",
       "  </tbody>\n",
       "</table>\n",
       "</div>"
      ],
      "text/plain": [
       "  Tenure in Months Senior Citizen Under 30 Total Long Distance Charges  \\\n",
       "0              8.0            1.0      0.0                      343.44   \n",
       "\n",
       "  Total Refunds Total Charges Total Revenue Total Extra Data Charges  \\\n",
       "0           0.0        729.95       1073.39                      0.0   \n",
       "\n",
       "  Satisfaction Score  Churn Value  \n",
       "0                1.0            1  "
      ]
     },
     "metadata": {},
     "output_type": "display_data"
    },
    {
     "name": "stdout",
     "output_type": "stream",
     "text": [
      "\n",
      "Diverse Counterfactual set (new outcome: 0)\n"
     ]
    },
    {
     "data": {
      "text/html": [
       "<div>\n",
       "<style scoped>\n",
       "    .dataframe tbody tr th:only-of-type {\n",
       "        vertical-align: middle;\n",
       "    }\n",
       "\n",
       "    .dataframe tbody tr th {\n",
       "        vertical-align: top;\n",
       "    }\n",
       "\n",
       "    .dataframe thead th {\n",
       "        text-align: right;\n",
       "    }\n",
       "</style>\n",
       "<table border=\"1\" class=\"dataframe\">\n",
       "  <thead>\n",
       "    <tr style=\"text-align: right;\">\n",
       "      <th></th>\n",
       "      <th>Tenure in Months</th>\n",
       "      <th>Senior Citizen</th>\n",
       "      <th>Under 30</th>\n",
       "      <th>Total Long Distance Charges</th>\n",
       "      <th>Total Refunds</th>\n",
       "      <th>Total Charges</th>\n",
       "      <th>Total Revenue</th>\n",
       "      <th>Total Extra Data Charges</th>\n",
       "      <th>Satisfaction Score</th>\n",
       "      <th>Churn Value</th>\n",
       "    </tr>\n",
       "  </thead>\n",
       "  <tbody>\n",
       "    <tr>\n",
       "      <th>0</th>\n",
       "      <td>59.0</td>\n",
       "      <td>-</td>\n",
       "      <td>-</td>\n",
       "      <td>-</td>\n",
       "      <td>-</td>\n",
       "      <td>-</td>\n",
       "      <td>-</td>\n",
       "      <td>-</td>\n",
       "      <td>4.0</td>\n",
       "      <td>0</td>\n",
       "    </tr>\n",
       "    <tr>\n",
       "      <th>1</th>\n",
       "      <td>3.0</td>\n",
       "      <td>-</td>\n",
       "      <td>-</td>\n",
       "      <td>-</td>\n",
       "      <td>-</td>\n",
       "      <td>-</td>\n",
       "      <td>-</td>\n",
       "      <td>-</td>\n",
       "      <td>4.0</td>\n",
       "      <td>0</td>\n",
       "    </tr>\n",
       "    <tr>\n",
       "      <th>2</th>\n",
       "      <td>-</td>\n",
       "      <td>-</td>\n",
       "      <td>-</td>\n",
       "      <td>-</td>\n",
       "      <td>37.64</td>\n",
       "      <td>-</td>\n",
       "      <td>-</td>\n",
       "      <td>-</td>\n",
       "      <td>4.0</td>\n",
       "      <td>0</td>\n",
       "    </tr>\n",
       "  </tbody>\n",
       "</table>\n",
       "</div>"
      ],
      "text/plain": [
       "  Tenure in Months Senior Citizen Under 30 Total Long Distance Charges  \\\n",
       "0             59.0              -        -                           -   \n",
       "1              3.0              -        -                           -   \n",
       "2                -              -        -                           -   \n",
       "\n",
       "  Total Refunds Total Charges Total Revenue Total Extra Data Charges  \\\n",
       "0             -             -             -                        -   \n",
       "1             -             -             -                        -   \n",
       "2         37.64             -             -                        -   \n",
       "\n",
       "  Satisfaction Score Churn Value  \n",
       "0                4.0           0  \n",
       "1                4.0           0  \n",
       "2                4.0           0  "
      ]
     },
     "metadata": {},
     "output_type": "display_data"
    }
   ],
   "source": [
    "cf.visualize_as_dataframe(show_only_changes=True)"
   ]
  },
  {
   "cell_type": "markdown",
   "id": "18fe4921",
   "metadata": {},
   "source": [
    "# Regression problem: House Price Prediction"
   ]
  },
  {
   "cell_type": "code",
   "execution_count": 14,
   "id": "bdefe0ec",
   "metadata": {},
   "outputs": [],
   "source": [
    "hpp=pd.read_csv('Regression.csv')"
   ]
  },
  {
   "cell_type": "code",
   "execution_count": 15,
   "id": "40c47116",
   "metadata": {},
   "outputs": [
    {
     "data": {
      "text/html": [
       "<div>\n",
       "<style scoped>\n",
       "    .dataframe tbody tr th:only-of-type {\n",
       "        vertical-align: middle;\n",
       "    }\n",
       "\n",
       "    .dataframe tbody tr th {\n",
       "        vertical-align: top;\n",
       "    }\n",
       "\n",
       "    .dataframe thead th {\n",
       "        text-align: right;\n",
       "    }\n",
       "</style>\n",
       "<table border=\"1\" class=\"dataframe\">\n",
       "  <thead>\n",
       "    <tr style=\"text-align: right;\">\n",
       "      <th></th>\n",
       "      <th>ZN</th>\n",
       "      <th>House_Price</th>\n",
       "      <th>TAX</th>\n",
       "      <th>RAD</th>\n",
       "      <th>RM</th>\n",
       "    </tr>\n",
       "  </thead>\n",
       "  <tbody>\n",
       "    <tr>\n",
       "      <th>0</th>\n",
       "      <td>18.0</td>\n",
       "      <td>24.0</td>\n",
       "      <td>296.0</td>\n",
       "      <td>1.0</td>\n",
       "      <td>6.575</td>\n",
       "    </tr>\n",
       "    <tr>\n",
       "      <th>1</th>\n",
       "      <td>0.0</td>\n",
       "      <td>21.6</td>\n",
       "      <td>242.0</td>\n",
       "      <td>2.0</td>\n",
       "      <td>6.421</td>\n",
       "    </tr>\n",
       "    <tr>\n",
       "      <th>2</th>\n",
       "      <td>0.0</td>\n",
       "      <td>34.7</td>\n",
       "      <td>242.0</td>\n",
       "      <td>2.0</td>\n",
       "      <td>7.185</td>\n",
       "    </tr>\n",
       "    <tr>\n",
       "      <th>3</th>\n",
       "      <td>0.0</td>\n",
       "      <td>33.4</td>\n",
       "      <td>222.0</td>\n",
       "      <td>3.0</td>\n",
       "      <td>6.998</td>\n",
       "    </tr>\n",
       "    <tr>\n",
       "      <th>4</th>\n",
       "      <td>0.0</td>\n",
       "      <td>36.2</td>\n",
       "      <td>222.0</td>\n",
       "      <td>3.0</td>\n",
       "      <td>7.147</td>\n",
       "    </tr>\n",
       "  </tbody>\n",
       "</table>\n",
       "</div>"
      ],
      "text/plain": [
       "     ZN  House_Price    TAX  RAD     RM\n",
       "0  18.0         24.0  296.0  1.0  6.575\n",
       "1   0.0         21.6  242.0  2.0  6.421\n",
       "2   0.0         34.7  242.0  2.0  7.185\n",
       "3   0.0         33.4  222.0  3.0  6.998\n",
       "4   0.0         36.2  222.0  3.0  7.147"
      ]
     },
     "execution_count": 15,
     "metadata": {},
     "output_type": "execute_result"
    }
   ],
   "source": [
    "hpp.head()"
   ]
  },
  {
   "cell_type": "code",
   "execution_count": 16,
   "id": "8472a2cc",
   "metadata": {},
   "outputs": [],
   "source": [
    "target_hpp=hpp['House_Price']"
   ]
  },
  {
   "cell_type": "code",
   "execution_count": 17,
   "id": "df4c8c5e",
   "metadata": {},
   "outputs": [],
   "source": [
    "X_hpp=hpp.drop('House_Price',axis=1)"
   ]
  },
  {
   "cell_type": "code",
   "execution_count": 18,
   "id": "78a91e84",
   "metadata": {},
   "outputs": [],
   "source": [
    "rfc_hpp=RandomForestRegressor()"
   ]
  },
  {
   "cell_type": "code",
   "execution_count": 19,
   "id": "af6f6fef",
   "metadata": {},
   "outputs": [
    {
     "data": {
      "text/plain": [
       "RandomForestRegressor()"
      ]
     },
     "execution_count": 19,
     "metadata": {},
     "output_type": "execute_result"
    }
   ],
   "source": [
    "rfc_hpp.fit(X_hpp,target_hpp)"
   ]
  },
  {
   "cell_type": "markdown",
   "id": "2f19b25d",
   "metadata": {},
   "source": [
    "### Initializing Dice data"
   ]
  },
  {
   "cell_type": "code",
   "execution_count": 20,
   "id": "89586b35",
   "metadata": {},
   "outputs": [],
   "source": [
    "data_dice_hpp = dice_ml.Data(dataframe=hpp.astype(float).astype(str),\n",
    "                          continuous_features=[],\n",
    "                         outcome_name='House_Price')"
   ]
  },
  {
   "cell_type": "markdown",
   "id": "5fbb8008",
   "metadata": {},
   "source": [
    "### Initializing Dice Model"
   ]
  },
  {
   "cell_type": "code",
   "execution_count": 21,
   "id": "35cee08d",
   "metadata": {},
   "outputs": [],
   "source": [
    "model_dice_hpp = dice_ml.Model(model=rfc_hpp, backend=\"sklearn\",model_type='regressor')"
   ]
  },
  {
   "cell_type": "markdown",
   "id": "b1eb3412",
   "metadata": {},
   "source": [
    "### Combining Data and Model to create Dice Explainer"
   ]
  },
  {
   "cell_type": "code",
   "execution_count": 22,
   "id": "64bcff68",
   "metadata": {},
   "outputs": [],
   "source": [
    "explainer_hpp = dice_ml.Dice(data_dice_hpp, model_dice_hpp, method=\"random\")"
   ]
  },
  {
   "cell_type": "markdown",
   "id": "9e802792",
   "metadata": {},
   "source": [
    "### Selecting a datapoint for which counterfactual is needed"
   ]
  },
  {
   "cell_type": "code",
   "execution_count": 23,
   "id": "d004eb8d",
   "metadata": {},
   "outputs": [],
   "source": [
    "input_datapoint_hpp=pd.DataFrame(X_hpp.iloc[10]).T"
   ]
  },
  {
   "cell_type": "markdown",
   "id": "a2289fb2",
   "metadata": {},
   "source": [
    "### Finding couterfactuals"
   ]
  },
  {
   "cell_type": "code",
   "execution_count": 24,
   "id": "5ebc0c88",
   "metadata": {},
   "outputs": [
    {
     "name": "stderr",
     "output_type": "stream",
     "text": [
      "100%|████████████████████████████████████████████████████████████████████████████████████| 1/1 [00:00<00:00,  3.63it/s]\n"
     ]
    }
   ],
   "source": [
    "cf_hpp= explainer_hpp.generate_counterfactuals(input_datapoint_hpp.astype(float).astype(str), \n",
    "              total_CFs=3, \n",
    "\n",
    "                            desired_range=[25,50],\n",
    "              #permitted_range=permit_range,\n",
    "              features_to_vary=X_hpp.columns.to_list())\n",
    "            "
   ]
  },
  {
   "cell_type": "code",
   "execution_count": 25,
   "id": "9036d398",
   "metadata": {},
   "outputs": [
    {
     "name": "stdout",
     "output_type": "stream",
     "text": [
      "Query instance (original outcome : 18)\n"
     ]
    },
    {
     "data": {
      "text/html": [
       "<div>\n",
       "<style scoped>\n",
       "    .dataframe tbody tr th:only-of-type {\n",
       "        vertical-align: middle;\n",
       "    }\n",
       "\n",
       "    .dataframe tbody tr th {\n",
       "        vertical-align: top;\n",
       "    }\n",
       "\n",
       "    .dataframe thead th {\n",
       "        text-align: right;\n",
       "    }\n",
       "</style>\n",
       "<table border=\"1\" class=\"dataframe\">\n",
       "  <thead>\n",
       "    <tr style=\"text-align: right;\">\n",
       "      <th></th>\n",
       "      <th>ZN</th>\n",
       "      <th>TAX</th>\n",
       "      <th>RAD</th>\n",
       "      <th>RM</th>\n",
       "      <th>House_Price</th>\n",
       "    </tr>\n",
       "  </thead>\n",
       "  <tbody>\n",
       "    <tr>\n",
       "      <th>0</th>\n",
       "      <td>12.5</td>\n",
       "      <td>311.0</td>\n",
       "      <td>5.0</td>\n",
       "      <td>6.377</td>\n",
       "      <td>18.0</td>\n",
       "    </tr>\n",
       "  </tbody>\n",
       "</table>\n",
       "</div>"
      ],
      "text/plain": [
       "     ZN    TAX  RAD     RM  House_Price\n",
       "0  12.5  311.0  5.0  6.377         18.0"
      ]
     },
     "metadata": {},
     "output_type": "display_data"
    },
    {
     "name": "stdout",
     "output_type": "stream",
     "text": [
      "\n",
      "Diverse Counterfactual set (new outcome: [25, 50])\n"
     ]
    },
    {
     "data": {
      "text/html": [
       "<div>\n",
       "<style scoped>\n",
       "    .dataframe tbody tr th:only-of-type {\n",
       "        vertical-align: middle;\n",
       "    }\n",
       "\n",
       "    .dataframe tbody tr th {\n",
       "        vertical-align: top;\n",
       "    }\n",
       "\n",
       "    .dataframe thead th {\n",
       "        text-align: right;\n",
       "    }\n",
       "</style>\n",
       "<table border=\"1\" class=\"dataframe\">\n",
       "  <thead>\n",
       "    <tr style=\"text-align: right;\">\n",
       "      <th></th>\n",
       "      <th>ZN</th>\n",
       "      <th>TAX</th>\n",
       "      <th>RAD</th>\n",
       "      <th>RM</th>\n",
       "      <th>House_Price</th>\n",
       "    </tr>\n",
       "  </thead>\n",
       "  <tbody>\n",
       "    <tr>\n",
       "      <th>0</th>\n",
       "      <td>-</td>\n",
       "      <td>255.0</td>\n",
       "      <td>-</td>\n",
       "      <td>7.236</td>\n",
       "      <td>35.1879997253418</td>\n",
       "    </tr>\n",
       "    <tr>\n",
       "      <th>1</th>\n",
       "      <td>-</td>\n",
       "      <td>-</td>\n",
       "      <td>-</td>\n",
       "      <td>8.375</td>\n",
       "      <td>48.28900146484375</td>\n",
       "    </tr>\n",
       "    <tr>\n",
       "      <th>2</th>\n",
       "      <td>-</td>\n",
       "      <td>-</td>\n",
       "      <td>7.0</td>\n",
       "      <td>8.297</td>\n",
       "      <td>45.0099983215332</td>\n",
       "    </tr>\n",
       "  </tbody>\n",
       "</table>\n",
       "</div>"
      ],
      "text/plain": [
       "  ZN    TAX  RAD     RM        House_Price\n",
       "0  -  255.0    -  7.236   35.1879997253418\n",
       "1  -      -    -  8.375  48.28900146484375\n",
       "2  -      -  7.0  8.297   45.0099983215332"
      ]
     },
     "metadata": {},
     "output_type": "display_data"
    }
   ],
   "source": [
    "cf_hpp.visualize_as_dataframe(show_only_changes=True)"
   ]
  },
  {
   "cell_type": "code",
   "execution_count": null,
   "id": "9e96f8c0",
   "metadata": {},
   "outputs": [],
   "source": []
  }
 ],
 "metadata": {
  "kernelspec": {
   "display_name": "Python 3",
   "language": "python",
   "name": "python3"
  },
  "language_info": {
   "codemirror_mode": {
    "name": "ipython",
    "version": 3
   },
   "file_extension": ".py",
   "mimetype": "text/x-python",
   "name": "python",
   "nbconvert_exporter": "python",
   "pygments_lexer": "ipython3",
   "version": "3.8.8"
  }
 },
 "nbformat": 4,
 "nbformat_minor": 5
}
